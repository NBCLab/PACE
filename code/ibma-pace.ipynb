{
 "cells": [
  {
   "cell_type": "code",
   "execution_count": null,
   "metadata": {},
   "outputs": [],
   "source": [
    "import os.path as op\n",
    "import itertools\n",
    "\n",
    "import nibabel as nib\n",
    "from nimare.dataset import Dataset"
   ]
  },
  {
   "cell_type": "code",
   "execution_count": 2,
   "metadata": {},
   "outputs": [],
   "source": [
    "dsets = [\"ALC\", \"ATS\", \"CANN\", \"COC\"]\n",
    "seeds = [\"amygdala\", \"hippocampus\", \"insula\", \"striatum\", \"vmPFC\"]\n",
    "tests = [\"1SampletTest\", \"2SampletTest\"]\n",
    "gsrs = [\"on\", \"off\"]\n",
    "pipes = [\"3dttest\", \"3dlmer\", \"combat\"]\n",
    "\n",
    "dataset_dict = {}\n",
    "for dset, seed in itertools.product(dsets, seeds):\n",
    "    dset_dir = f\"/gpfs1/home/m/r/mriedel/pace/dsets/dset-{dset}/derivatives/NIfTIs\"\n",
    "    hemispheres = [\"\"] if seed == \"vmPFC\" else [\"lh\", \"rh\"]\n",
    "    for hemis in hemispheres:\n",
    "        hemis_lb = \"_hemis-lh\" if hemis == \"lh\" else \"_hemis-rh\" if hemis == \"rh\" else \"\"\n",
    "        if seed == \"amygdala\":\n",
    "            rois = [f\"amygdala1{hemis}\", f\"amygdala2{hemis}\", f\"amygdala3{hemis}\"]\n",
    "        elif seed == \"hippocampus\":\n",
    "            rois = [\n",
    "                f\"hippocampus3solF1{hemis}\",\n",
    "                f\"hippocampus3solF2{hemis}\",\n",
    "                f\"hippocampus3solF3{hemis}\",\n",
    "            ]\n",
    "        elif seed == \"insula\":\n",
    "            rois = [f\"insulaD{hemis}\", f\"insulaP{hemis}\", f\"insulaV{hemis}\"]\n",
    "        elif seed == \"striatum\":\n",
    "            rois = [\n",
    "                f\"striatumMatchCD{hemis}\",\n",
    "                f\"striatumMatchCV{hemis}\",\n",
    "                f\"striatumMatchDL{hemis}\",\n",
    "                f\"striatumMatchD{hemis}\",\n",
    "                f\"striatumMatchR{hemis}\",\n",
    "                f\"striatumMatchV{hemis}\",\n",
    "            ]\n",
    "        elif seed == \"vmPFC\":\n",
    "            rois = [\"vmPFC1\", \"vmPFC2\", \"vmPFC3\", \"vmPFC4\", \"vmPFC5\", \"vmPFC6\"]\n",
    "    \n",
    "        for roi, test in itertools.product(rois, tests):\n",
    "            test_lb = \"group-average\" if test == \"1SampletTest\" else \"control-case\"\n",
    "            for gsr, pipe in itertools.product(gsrs, pipes):\n",
    "                study = f\"dset-{dset}_seed-{seed}{hemis_lb}_roi-{roi}_test-{test}_gsr-{gsr}_pipe-{pipe}\"\n",
    "                img_nm = f\"dset-{dset}_seed-{seed}{hemis_lb}_test-{test}_roi-{roi}_pipe-{pipe}_gsr-{gsr}_map-0unthr_img.nii.gz\"\n",
    "                img_path = op.join(dset_dir, img_nm)\n",
    "                assert op.exists(img_path)\n",
    "\n",
    "                dataset_dict[study] = {\"contrasts\": {}}\n",
    "                dataset_dict[study][\"contrasts\"][test_lb] = {\n",
    "                    \"images\": {\n",
    "                        \"z\": img_path,\n",
    "                    },\n",
    "                    \"metadata\": {\"sample_sizes\": None},\n",
    "                }\n",
    "\n",
    "mask = nib.load(\"/gpfs1/home/m/r/mriedel/pace/templates/tpl-MNI152NLin2009cAsym_res-01_desc-brain_mask.nii.gz\")\n",
    "dataset = Dataset(dataset_dict, mask=mask)\n",
    "dataset.save(\"/gpfs1/home/m/r/mriedel/pace/dsets/ibma-pace_dataset.pkl.gz\")"
   ]
  }
 ],
 "metadata": {
  "kernelspec": {
   "display_name": "base",
   "language": "python",
   "name": "python3"
  },
  "language_info": {
   "codemirror_mode": {
    "name": "ipython",
    "version": 3
   },
   "file_extension": ".py",
   "mimetype": "text/x-python",
   "name": "python",
   "nbconvert_exporter": "python",
   "pygments_lexer": "ipython3",
   "version": "3.8.12"
  },
  "orig_nbformat": 4
 },
 "nbformat": 4,
 "nbformat_minor": 2
}
